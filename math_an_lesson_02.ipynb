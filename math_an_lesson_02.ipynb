{
 "cells": [
  {
   "cell_type": "markdown",
   "metadata": {},
   "source": [
    "# Тема “Множество”\n",
    "#### Задание.\t\n",
    "Даны три множества a,b и с. Необходимо выполнить все изученные виды бинарных операций над всеми комбинациями множеств.\n",
    "\n",
    "Выполнить задание на языке Python"
   ]
  },
  {
   "cell_type": "code",
   "execution_count": 1,
   "metadata": {},
   "outputs": [
    {
     "data": {
      "text/plain": [
       "({1, 2, 3, 4}, {3, 4, 5, 6}, set())"
      ]
     },
     "execution_count": 1,
     "metadata": {},
     "output_type": "execute_result"
    }
   ],
   "source": [
    "a = {1,2,3,4}\n",
    "b = {3,4,5,6}\n",
    "c = set()\n",
    "d1 = (a,b,c,a)\n",
    "d2 = ('a','b','c','a')\n",
    "a,b,c"
   ]
  },
  {
   "cell_type": "code",
   "execution_count": 2,
   "metadata": {},
   "outputs": [
    {
     "name": "stdout",
     "output_type": "stream",
     "text": [
      "a = {1, 2, 3, 4}, b = {3, 4, 5, 6}\n",
      "a объединение b = {1, 2, 3, 4, 5, 6} \n",
      "a пересечение b = {3, 4} \n",
      "a разность b = {1, 2} \n",
      "b разность a = {5, 6} \n",
      "a симметричная разность b = {1, 2, 5, 6} \n",
      "------------------------------------------------------------\n",
      "b = {3, 4, 5, 6}, c = set()\n",
      "b объединение c = {3, 4, 5, 6} \n",
      "b пересечение c = set() \n",
      "b разность c = {3, 4, 5, 6} \n",
      "c разность b = set() \n",
      "b симметричная разность c = {3, 4, 5, 6} \n",
      "------------------------------------------------------------\n",
      "c = set(), a = {1, 2, 3, 4}\n",
      "c объединение a = {1, 2, 3, 4} \n",
      "c пересечение a = set() \n",
      "c разность a = set() \n",
      "a разность c = {1, 2, 3, 4} \n",
      "c симметричная разность a = {1, 2, 3, 4} \n",
      "------------------------------------------------------------\n"
     ]
    }
   ],
   "source": [
    "for i in range(3):\n",
    "    print(f'{d2[i]} = {d1[i]}, {d2[i+1]} = {d1[i+1]}')\n",
    "    print(f'{d2[i]} объединение {d2[i+1]} = {d1[i]|d1[i+1]} ')\n",
    "    print(f'{d2[i]} пересечение {d2[i+1]} = {d1[i]&d1[i+1]} ')\n",
    "    print(f'{d2[i]} разность {d2[i+1]} = {d1[i]-d1[i+1]} ')\n",
    "    print(f'{d2[i+1]} разность {d2[i]} = {d1[i+1]-d1[i]} ')\n",
    "    print(f'{d2[i]} симметричная разность {d2[i+1]} = {d1[i]^d1[i+1]} ')\n",
    "    print('-'*60)\n",
    "    "
   ]
  },
  {
   "cell_type": "markdown",
   "metadata": {},
   "source": [
    "# Тема 3 “Последовательность”\n",
    "#### Задание 3*\n",
    "На языке Python предложить алгоритм вычисляющий численно предел точностью 0.0000001\n"
   ]
  },
  {
   "cell_type": "code",
   "execution_count": 20,
   "metadata": {},
   "outputs": [
    {
     "name": "stdout",
     "output_type": "stream",
     "text": [
      "2.712009303134111345086572721 2048\n"
     ]
    }
   ],
   "source": [
    "#если решать в лоб: \n",
    "import math\n",
    "from decimal import Decimal\n",
    "def f(n):\n",
    "    return n/Decimal(math.factorial(n))**Decimal(1/n)\n",
    "acc = 0.00001\n",
    "i = 2\n",
    "while(f(i)-f(i-1))>acc:\n",
    "    i = i*4\n",
    "print(f(i), i)"
   ]
  },
  {
   "cell_type": "markdown",
   "metadata": {},
   "source": [
    "#### Задание 4*\n",
    "Предложить оптимизацию алгоритма, полученного в задании 3, ускоряющую его сходимость"
   ]
  },
  {
   "cell_type": "code",
   "execution_count": 22,
   "metadata": {},
   "outputs": [
    {
     "name": "stdout",
     "output_type": "stream",
     "text": [
      "2.7182762914799654 8388608\n"
     ]
    }
   ],
   "source": [
    "# если преобразовать с помощью формулы Стирлинга (см. файл HV_02.docx), то можно вычислить гораздо \n",
    "# быстрее, учитывая теорему о двух милиционерах:\n",
    "\n",
    "acc = 0.0000001\n",
    "k = 1\n",
    "n = 2\n",
    "while k > acc:\n",
    "    k1 = math.e/(n*math.pi*2)**(1/(2*n))\n",
    "    k2 = math.e/(n*math.e**2)**(1/(2*n))\n",
    "    k = k1-k2\n",
    "    n *=2\n",
    "print(k1, n)"
   ]
  }
 ],
 "metadata": {
  "kernelspec": {
   "display_name": "Python 3",
   "language": "python",
   "name": "python3"
  },
  "language_info": {
   "codemirror_mode": {
    "name": "ipython",
    "version": 3
   },
   "file_extension": ".py",
   "mimetype": "text/x-python",
   "name": "python",
   "nbconvert_exporter": "python",
   "pygments_lexer": "ipython3",
   "version": "3.7.4"
  }
 },
 "nbformat": 4,
 "nbformat_minor": 2
}
